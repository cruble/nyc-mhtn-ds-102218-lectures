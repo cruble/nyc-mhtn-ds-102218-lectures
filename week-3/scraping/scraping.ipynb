{
 "cells": [
  {
   "cell_type": "code",
   "execution_count": 1,
   "metadata": {},
   "outputs": [],
   "source": [
    "import requests"
   ]
  },
  {
   "cell_type": "code",
   "execution_count": 2,
   "metadata": {},
   "outputs": [],
   "source": [
    "craigslist_request = requests.get('https://newyork.craigslist.org/search/brk/aap')"
   ]
  },
  {
   "cell_type": "code",
   "execution_count": 3,
   "metadata": {},
   "outputs": [
    {
     "data": {
      "text/plain": [
       "requests.models.Response"
      ]
     },
     "execution_count": 3,
     "metadata": {},
     "output_type": "execute_result"
    }
   ],
   "source": [
    "type(craigslist_request)"
   ]
  },
  {
   "cell_type": "code",
   "execution_count": 8,
   "metadata": {},
   "outputs": [],
   "source": [
    "craigslist_html = craigslist_request.text"
   ]
  },
  {
   "cell_type": "code",
   "execution_count": 9,
   "metadata": {},
   "outputs": [],
   "source": [
    "from bs4 import BeautifulSoup"
   ]
  },
  {
   "cell_type": "code",
   "execution_count": 10,
   "metadata": {},
   "outputs": [],
   "source": [
    "craigslist_soup = BeautifulSoup(craigslist_html)"
   ]
  },
  {
   "cell_type": "code",
   "execution_count": 39,
   "metadata": {},
   "outputs": [],
   "source": [
    "apartments =  craigslist_soup.findAll('li', {'class':\"result-row\"})"
   ]
  },
  {
   "cell_type": "code",
   "execution_count": 42,
   "metadata": {},
   "outputs": [
    {
     "data": {
      "text/plain": [
       "<li class=\"result-row\" data-pid=\"6735637514\" data-repost-of=\"6614706131\">\n",
       "<a class=\"result-image gallery\" data-ids=\"1:00B0B_ddcUjIoRx9R\" href=\"https://newyork.craigslist.org/brk/abo/d/corner-sunny-loft-high/6735637514.html\">\n",
       "<span class=\"result-price\">$2600</span>\n",
       "</a>\n",
       "<p class=\"result-info\">\n",
       "<span class=\"icon icon-star\" role=\"button\">\n",
       "<span class=\"screen-reader-text\">favorite this post</span>\n",
       "</span>\n",
       "<time class=\"result-date\" datetime=\"2018-11-07 11:15\" title=\"Wed 07 Nov 11:15:59 AM\">Nov  7</time>\n",
       "<a class=\"result-title hdrlnk\" data-id=\"6735637514\" href=\"https://newyork.craigslist.org/brk/abo/d/corner-sunny-loft-high/6735637514.html\">______CORNER Sunny  LOFT----High Ceiling---Laundry---Roof Acess______</a>\n",
       "<span class=\"result-meta\">\n",
       "<span class=\"result-price\">$2600</span>\n",
       "<span class=\"housing\">\n",
       "                    2br -\n",
       "                    1000ft<sup>2</sup> -\n",
       "                </span>\n",
       "<span class=\"result-hood\"> (WILLIAMSBURG right @ L train &amp; J M trai)</span>\n",
       "<span class=\"result-tags\">\n",
       "                    pic\n",
       "                    <span class=\"maptag\" data-pid=\"6735637514\">map</span>\n",
       "</span>\n",
       "<span class=\"banish icon icon-trash\" role=\"button\">\n",
       "<span class=\"screen-reader-text\">hide this posting</span>\n",
       "</span>\n",
       "<span aria-hidden=\"true\" class=\"unbanish icon icon-trash red\" role=\"button\"></span>\n",
       "<a class=\"restore-link\" href=\"#\">\n",
       "<span class=\"restore-narrow-text\">restore</span>\n",
       "<span class=\"restore-wide-text\">restore this posting</span>\n",
       "</a>\n",
       "</span>\n",
       "</p>\n",
       "</li>"
      ]
     },
     "execution_count": 42,
     "metadata": {},
     "output_type": "execute_result"
    }
   ],
   "source": [
    "apartments[0]"
   ]
  },
  {
   "cell_type": "code",
   "execution_count": 37,
   "metadata": {},
   "outputs": [],
   "source": [
    "def price(apartment):\n",
    "    return int(apartment.find('span', {'class': 'result-price'}).text[1:])\n",
    "'$2400'[1:]"
   ]
  },
  {
   "cell_type": "code",
   "execution_count": 38,
   "metadata": {
    "scrolled": true
   },
   "outputs": [
    {
     "data": {
      "text/plain": [
       "[2600,\n",
       " 2400,\n",
       " 2200,\n",
       " 2800,\n",
       " 2995,\n",
       " 3599,\n",
       " 3295,\n",
       " 2930,\n",
       " 2150,\n",
       " 3895,\n",
       " 2384,\n",
       " 1595,\n",
       " 3999,\n",
       " 2600,\n",
       " 1160,\n",
       " 4495,\n",
       " 2842,\n",
       " 3295,\n",
       " 1800,\n",
       " 2800,\n",
       " 4475,\n",
       " 2499,\n",
       " 2075,\n",
       " 2550,\n",
       " 2899,\n",
       " 1799,\n",
       " 1650,\n",
       " 2495,\n",
       " 2750,\n",
       " 1985,\n",
       " 3100,\n",
       " 3500,\n",
       " 1725,\n",
       " 3770,\n",
       " 2425,\n",
       " 2300,\n",
       " 2899,\n",
       " 2500,\n",
       " 2499,\n",
       " 3450,\n",
       " 1725,\n",
       " 3995,\n",
       " 3895,\n",
       " 2800,\n",
       " 3806,\n",
       " 3250,\n",
       " 2350,\n",
       " 1700,\n",
       " 2940,\n",
       " 2100,\n",
       " 750,\n",
       " 2384,\n",
       " 2175,\n",
       " 2299,\n",
       " 1971,\n",
       " 3999,\n",
       " 3195,\n",
       " 3349,\n",
       " 1899,\n",
       " 2650,\n",
       " 2199,\n",
       " 2299,\n",
       " 2975,\n",
       " 3799,\n",
       " 2549,\n",
       " 1600,\n",
       " 2049,\n",
       " 4767,\n",
       " 2650,\n",
       " 1880,\n",
       " 2030,\n",
       " 2225,\n",
       " 2050,\n",
       " 2225,\n",
       " 1700,\n",
       " 2650,\n",
       " 3898,\n",
       " 3585,\n",
       " 2995,\n",
       " 3245,\n",
       " 2298,\n",
       " 2199,\n",
       " 2655,\n",
       " 3300,\n",
       " 2475,\n",
       " 3300,\n",
       " 2900,\n",
       " 3649,\n",
       " 2800,\n",
       " 2999,\n",
       " 4399,\n",
       " 1745,\n",
       " 1650,\n",
       " 2000,\n",
       " 2650,\n",
       " 3300,\n",
       " 4333,\n",
       " 1950,\n",
       " 2433,\n",
       " 1650,\n",
       " 1695,\n",
       " 4333,\n",
       " 2799,\n",
       " 3500,\n",
       " 2999,\n",
       " 2995,\n",
       " 3100,\n",
       " 3100,\n",
       " 2995,\n",
       " 2995,\n",
       " 2995,\n",
       " 2995,\n",
       " 2600,\n",
       " 2700,\n",
       " 3000,\n",
       " 2995,\n",
       " 1650,\n",
       " 2350,\n",
       " 2499,\n",
       " 2520]"
      ]
     },
     "execution_count": 38,
     "metadata": {},
     "output_type": "execute_result"
    }
   ],
   "source": [
    "apartment_datas = []\n",
    "for apartment in apartments:\n",
    "    prices.append(price(apartment))\n",
    "    Apartment(price, neighborhood, description)\n",
    "\n",
    "prices"
   ]
  },
  {
   "cell_type": "code",
   "execution_count": 34,
   "metadata": {},
   "outputs": [
    {
     "data": {
      "text/plain": [
       "2600"
      ]
     },
     "execution_count": 34,
     "metadata": {},
     "output_type": "execute_result"
    }
   ],
   "source": [
    "int(apartments[0].find('span', {'class': 'result-price'}).text[1:])"
   ]
  },
  {
   "cell_type": "code",
   "execution_count": null,
   "metadata": {},
   "outputs": [],
   "source": []
  }
 ],
 "metadata": {
  "kernelspec": {
   "display_name": "Python 3",
   "language": "python",
   "name": "python3"
  },
  "language_info": {
   "codemirror_mode": {
    "name": "ipython",
    "version": 3
   },
   "file_extension": ".py",
   "mimetype": "text/x-python",
   "name": "python",
   "nbconvert_exporter": "python",
   "pygments_lexer": "ipython3",
   "version": "3.7.0"
  }
 },
 "nbformat": 4,
 "nbformat_minor": 2
}
