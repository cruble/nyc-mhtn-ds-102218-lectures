{
 "cells": [
  {
   "cell_type": "code",
   "execution_count": 17,
   "metadata": {},
   "outputs": [],
   "source": [
    "import numpy as np"
   ]
  },
  {
   "cell_type": "markdown",
   "metadata": {},
   "source": [
    "* Faster and easier, and more visual then looping throug things"
   ]
  },
  {
   "cell_type": "markdown",
   "metadata": {},
   "source": [
    "* What is the last problem\n",
    "\n",
    "* Mainly for linear "
   ]
  },
  {
   "cell_type": "markdown",
   "metadata": {},
   "source": [
    "### generating an array with numpy"
   ]
  },
  {
   "cell_type": "code",
   "execution_count": 47,
   "metadata": {
    "scrolled": true
   },
   "outputs": [],
   "source": [
    "full_array = np.full((3, 6, 5), range(2, 12, 2))"
   ]
  },
  {
   "cell_type": "code",
   "execution_count": 64,
   "metadata": {},
   "outputs": [],
   "source": [
    "n_array = np.arange(1, 5)"
   ]
  },
  {
   "cell_type": "code",
   "execution_count": 67,
   "metadata": {},
   "outputs": [
    {
     "data": {
      "text/plain": [
       "2"
      ]
     },
     "execution_count": 67,
     "metadata": {},
     "output_type": "execute_result"
    }
   ],
   "source": [
    "n_array[1]"
   ]
  },
  {
   "cell_type": "code",
   "execution_count": null,
   "metadata": {},
   "outputs": [],
   "source": [
    "### know the location in memory of the starting of n_array\n",
    "# 7654\n",
    "# 7661\n",
    "# 7668\n",
    "\n"
   ]
  },
  {
   "cell_type": "code",
   "execution_count": 69,
   "metadata": {},
   "outputs": [
    {
     "data": {
      "text/plain": [
       "numpy.str_"
      ]
     },
     "execution_count": 69,
     "metadata": {},
     "output_type": "execute_result"
    }
   ],
   "source": [
    "type(n_array.astype('<U21')[0])"
   ]
  },
  {
   "cell_type": "code",
   "execution_count": 66,
   "metadata": {},
   "outputs": [
    {
     "data": {
      "text/plain": [
       "array(['1', '2', '3', '4', '1'], dtype='<U21')"
      ]
     },
     "execution_count": 66,
     "metadata": {},
     "output_type": "execute_result"
    }
   ],
   "source": [
    "np.append(np.arange(1, 5), '1')"
   ]
  },
  {
   "cell_type": "code",
   "execution_count": 20,
   "metadata": {},
   "outputs": [
    {
     "data": {
      "text/plain": [
       "0.10109705998285198"
      ]
     },
     "execution_count": 20,
     "metadata": {},
     "output_type": "execute_result"
    }
   ],
   "source": [
    "np.random.normal(0, .5)"
   ]
  },
  {
   "cell_type": "code",
   "execution_count": 71,
   "metadata": {},
   "outputs": [
    {
     "data": {
      "text/plain": [
       "'121221'"
      ]
     },
     "execution_count": 71,
     "metadata": {},
     "output_type": "execute_result"
    }
   ],
   "source": [
    "str(121221)"
   ]
  },
  {
   "cell_type": "code",
   "execution_count": 46,
   "metadata": {},
   "outputs": [
    {
     "data": {
      "text/plain": [
       "array([[[0, 0, 0],\n",
       "        [1, 1, 1]],\n",
       "\n",
       "       [[0, 1, 2],\n",
       "        [0, 1, 2]]])"
      ]
     },
     "execution_count": 46,
     "metadata": {},
     "output_type": "execute_result"
    }
   ],
   "source": [
    "grid = np.indices((2, 3))\n",
    "grid"
   ]
  },
  {
   "cell_type": "markdown",
   "metadata": {},
   "source": [
    "### Retrieving Data"
   ]
  },
  {
   "cell_type": "code",
   "execution_count": 73,
   "metadata": {},
   "outputs": [],
   "source": [
    "full_array = np.full((6, 5), range(2, 12, 2))"
   ]
  },
  {
   "cell_type": "code",
   "execution_count": 77,
   "metadata": {},
   "outputs": [
    {
     "data": {
      "text/plain": [
       "array([[ 2,  4,  6,  8, 10],\n",
       "       [ 2,  4,  6,  8, 10],\n",
       "       [ 2,  4,  6,  8, 10],\n",
       "       [ 2,  4,  6,  8, 10],\n",
       "       [ 2,  4,  6,  8, 10],\n",
       "       [ 2,  4,  6,  8, 10]])"
      ]
     },
     "execution_count": 77,
     "metadata": {},
     "output_type": "execute_result"
    }
   ],
   "source": [
    "full_array"
   ]
  },
  {
   "cell_type": "code",
   "execution_count": 98,
   "metadata": {},
   "outputs": [
    {
     "data": {
      "text/plain": [
       "(35,)"
      ]
     },
     "execution_count": 98,
     "metadata": {},
     "output_type": "execute_result"
    }
   ],
   "source": [
    "np.append(full_array, np.arange(1, 6)).shape"
   ]
  },
  {
   "cell_type": "code",
   "execution_count": 108,
   "metadata": {},
   "outputs": [
    {
     "data": {
      "text/plain": [
       "(35,)"
      ]
     },
     "execution_count": 108,
     "metadata": {},
     "output_type": "execute_result"
    }
   ],
   "source": [
    "tuple([35])"
   ]
  },
  {
   "cell_type": "code",
   "execution_count": 112,
   "metadata": {},
   "outputs": [
    {
     "data": {
      "text/plain": [
       "array([1, 2, 3])"
      ]
     },
     "execution_count": 112,
     "metadata": {},
     "output_type": "execute_result"
    }
   ],
   "source": [
    "np.arange(1, 4)"
   ]
  },
  {
   "cell_type": "code",
   "execution_count": 110,
   "metadata": {
    "scrolled": true
   },
   "outputs": [
    {
     "data": {
      "text/plain": [
       "array([[ 2],\n",
       "       [ 4],\n",
       "       [ 6],\n",
       "       [ 8],\n",
       "       [10],\n",
       "       [ 2],\n",
       "       [ 4],\n",
       "       [ 6],\n",
       "       [ 8],\n",
       "       [10],\n",
       "       [ 2],\n",
       "       [ 4],\n",
       "       [ 6],\n",
       "       [ 8],\n",
       "       [10],\n",
       "       [ 2],\n",
       "       [ 4],\n",
       "       [ 6],\n",
       "       [ 8],\n",
       "       [10],\n",
       "       [ 2],\n",
       "       [ 4],\n",
       "       [ 6],\n",
       "       [ 8],\n",
       "       [10],\n",
       "       [ 2],\n",
       "       [ 4],\n",
       "       [ 6],\n",
       "       [ 8],\n",
       "       [10],\n",
       "       [ 1],\n",
       "       [ 2],\n",
       "       [ 3],\n",
       "       [ 4],\n",
       "       [ 5],\n",
       "       [ 6],\n",
       "       [ 7],\n",
       "       [ 8],\n",
       "       [ 9],\n",
       "       [10]])"
      ]
     },
     "execution_count": 110,
     "metadata": {},
     "output_type": "execute_result"
    }
   ],
   "source": [
    "np.append(full_array, np.arange(1, 11)).reshape(40, 1)"
   ]
  },
  {
   "cell_type": "code",
   "execution_count": 118,
   "metadata": {},
   "outputs": [],
   "source": [
    "my_matrix = full_array.reshape(5, 6)"
   ]
  },
  {
   "cell_type": "code",
   "execution_count": 119,
   "metadata": {},
   "outputs": [
    {
     "data": {
      "text/plain": [
       "array([[ 2,  4,  6,  8, 10,  2],\n",
       "       [ 4,  6,  8, 10,  2,  4],\n",
       "       [ 6,  8, 10,  2,  4,  6],\n",
       "       [ 8, 10,  2,  4,  6,  8],\n",
       "       [10,  2,  4,  6,  8, 10]])"
      ]
     },
     "execution_count": 119,
     "metadata": {},
     "output_type": "execute_result"
    }
   ],
   "source": [
    "my_matrix"
   ]
  },
  {
   "cell_type": "code",
   "execution_count": 122,
   "metadata": {},
   "outputs": [
    {
     "data": {
      "text/plain": [
       "False"
      ]
     },
     "execution_count": 122,
     "metadata": {},
     "output_type": "execute_result"
    }
   ],
   "source": [
    "3 % 2 == 0"
   ]
  },
  {
   "cell_type": "code",
   "execution_count": 125,
   "metadata": {},
   "outputs": [],
   "source": [
    "matrix_of_booleans = my_matrix % 4 == 0"
   ]
  },
  {
   "cell_type": "code",
   "execution_count": 127,
   "metadata": {},
   "outputs": [
    {
     "data": {
      "text/plain": [
       "array([[ 2,  4,  6,  8, 10,  2],\n",
       "       [ 4,  6,  8, 10,  2,  4],\n",
       "       [ 6,  8, 10,  2,  4,  6],\n",
       "       [ 8, 10,  2,  4,  6,  8],\n",
       "       [10,  2,  4,  6,  8, 10]])"
      ]
     },
     "execution_count": 127,
     "metadata": {},
     "output_type": "execute_result"
    }
   ],
   "source": [
    "my_matrix"
   ]
  },
  {
   "cell_type": "code",
   "execution_count": 139,
   "metadata": {},
   "outputs": [
    {
     "data": {
      "text/plain": [
       "array([ True, False, False, False, False])"
      ]
     },
     "execution_count": 139,
     "metadata": {},
     "output_type": "execute_result"
    }
   ],
   "source": [
    "my_matrix[:, 1] == 4"
   ]
  },
  {
   "cell_type": "code",
   "execution_count": 138,
   "metadata": {},
   "outputs": [
    {
     "data": {
      "text/plain": [
       "array([], shape=(0, 5, 6), dtype=int64)"
      ]
     },
     "execution_count": 138,
     "metadata": {},
     "output_type": "execute_result"
    }
   ],
   "source": [
    "my_matrix[]"
   ]
  },
  {
   "cell_type": "code",
   "execution_count": 126,
   "metadata": {},
   "outputs": [
    {
     "data": {
      "text/plain": [
       "array([[False,  True, False,  True, False, False],\n",
       "       [ True, False,  True, False, False,  True],\n",
       "       [False,  True, False, False,  True, False],\n",
       "       [ True, False, False,  True, False,  True],\n",
       "       [False, False,  True, False,  True, False]])"
      ]
     },
     "execution_count": 126,
     "metadata": {},
     "output_type": "execute_result"
    }
   ],
   "source": [
    "matrix_of_booleans"
   ]
  },
  {
   "cell_type": "code",
   "execution_count": 133,
   "metadata": {},
   "outputs": [
    {
     "data": {
      "text/plain": [
       "array([4, 8, 4, 8, 4, 8, 4, 8, 4, 8, 4, 8])"
      ]
     },
     "execution_count": 133,
     "metadata": {},
     "output_type": "execute_result"
    }
   ],
   "source": [
    "my_matrix[my_matrix % 4 == 0]"
   ]
  },
  {
   "cell_type": "code",
   "execution_count": 78,
   "metadata": {},
   "outputs": [
    {
     "data": {
      "text/plain": [
       "(6, 5)"
      ]
     },
     "execution_count": 78,
     "metadata": {},
     "output_type": "execute_result"
    }
   ],
   "source": [
    "full_array.shape"
   ]
  },
  {
   "cell_type": "code",
   "execution_count": 1,
   "metadata": {},
   "outputs": [],
   "source": [
    "list_of_msas = 'https://en.wikipedia.org/wiki/List_of_metropolitan_statistical_areas'"
   ]
  },
  {
   "cell_type": "code",
   "execution_count": 3,
   "metadata": {},
   "outputs": [],
   "source": [
    "import pandas as pd"
   ]
  },
  {
   "cell_type": "code",
   "execution_count": 9,
   "metadata": {},
   "outputs": [],
   "source": [
    "msa_df = pd.read_html(list_of_msas)[1]"
   ]
  },
  {
   "cell_type": "code",
   "execution_count": 21,
   "metadata": {},
   "outputs": [
    {
     "data": {
      "text/plain": [
       "array([['Rank', 'Metropolitan\\xa0statistical\\xa0area', '2017 Estimate',\n",
       "        '2010 Census', '% Change',\n",
       "        'Encompassing combined statistical\\xa0area'],\n",
       "       [nan, 'New York-Newark-Jersey City, NY-NJ-PA MSA', '20320876',\n",
       "        '19567410', '+3.85%', 'New York-Newark, NY-NJ-CT-PA CSA'],\n",
       "       [nan, 'Los Angeles-Long Beach-Anaheim, CA MSA', '13353907',\n",
       "        '12828837', '+4.09%', 'Los Angeles-Long Beach, CA CSA'],\n",
       "       ...,\n",
       "       [nan, 'Lewiston, ID-WA MSA', '62920', '60888', '+3.34%', nan],\n",
       "       [nan, 'Enid, OK MSA', '61581', '60580', '+1.65%', nan],\n",
       "       [nan, 'Carson City, NV MSA', '54745', '55274', '−0.96%',\n",
       "        'Reno-Carson City-Fernley, NV CSA']], dtype=object)"
      ]
     },
     "execution_count": 21,
     "metadata": {},
     "output_type": "execute_result"
    }
   ],
   "source": [
    "msa_npa = msa_df\n",
    "msa_npa.values"
   ]
  },
  {
   "cell_type": "code",
   "execution_count": 16,
   "metadata": {},
   "outputs": [
    {
     "data": {
      "text/plain": [
       "array([['New York-Newark-Jersey City, NY-NJ-PA MSA', '20320876',\n",
       "        '19567410', '+3.85%', 'New York-Newark, NY-NJ-CT-PA CSA'],\n",
       "       ['Los Angeles-Long Beach-Anaheim, CA MSA', '13353907', '12828837',\n",
       "        '+4.09%', 'Los Angeles-Long Beach, CA CSA'],\n",
       "       ['Chicago-Naperville-Elgin, IL-IN-WI MSA', '9533040', '9461105',\n",
       "        '+0.76%', 'Chicago-Naperville, IL-IN-WI CSA'],\n",
       "       ...,\n",
       "       ['Lewiston, ID-WA MSA', '62920', '60888', '+3.34%', nan],\n",
       "       ['Enid, OK MSA', '61581', '60580', '+1.65%', nan],\n",
       "       ['Carson City, NV MSA', '54745', '55274', '−0.96%',\n",
       "        'Reno-Carson City-Fernley, NV CSA']], dtype=object)"
      ]
     },
     "execution_count": 16,
     "metadata": {},
     "output_type": "execute_result"
    }
   ],
   "source": [
    "msa_npa[1:, 1:]"
   ]
  },
  {
   "cell_type": "code",
   "execution_count": 23,
   "metadata": {},
   "outputs": [
    {
     "data": {
      "text/plain": [
       "array([[1, 'George Washington', 189],\n",
       "       [2, 'John Adams', 170],\n",
       "       [3, 'Thomas Jefferson', 189],\n",
       "       [4, 'James Madison', 163],\n",
       "       [5, 'James Monroe', 183],\n",
       "       [6, 'John Quincy Adams', 171],\n",
       "       [7, 'Andrew Jackson', 185],\n",
       "       [8, 'Martin Van Buren', 168],\n",
       "       [9, 'William Henry Harrison', 173],\n",
       "       [10, 'John Tyler', 183],\n",
       "       [11, 'James K. Polk', 173],\n",
       "       [12, 'Zachary Taylor', 173],\n",
       "       [13, 'Millard Fillmore', 175],\n",
       "       [14, 'Franklin Pierce', 178],\n",
       "       [15, 'James Buchanan', 183],\n",
       "       [16, 'Abraham Lincoln', 193],\n",
       "       [17, 'Andrew Johnson', 178],\n",
       "       [18, 'Ulysses S. Grant', 173],\n",
       "       [19, 'Rutherford B. Hayes', 174],\n",
       "       [20, 'James A. Garfield', 183],\n",
       "       [21, 'Chester A. Arthur', 183],\n",
       "       [23, 'Benjamin Harrison', 168],\n",
       "       [25, 'William McKinley', 170],\n",
       "       [26, 'Theodore Roosevelt', 178],\n",
       "       [27, 'William Howard Taft', 182],\n",
       "       [28, 'Woodrow Wilson', 180],\n",
       "       [29, 'Warren G. Harding', 183],\n",
       "       [30, 'Calvin Coolidge', 178],\n",
       "       [31, 'Herbert Hoover', 182],\n",
       "       [32, 'Franklin D. Roosevelt', 188],\n",
       "       [33, 'Harry S. Truman', 175],\n",
       "       [34, 'Dwight D. Eisenhower', 179],\n",
       "       [35, 'John F. Kennedy', 183],\n",
       "       [36, 'Lyndon B. Johnson', 193],\n",
       "       [37, 'Richard Nixon', 182],\n",
       "       [38, 'Gerald Ford', 183],\n",
       "       [39, 'Jimmy Carter', 177],\n",
       "       [40, 'Ronald Reagan', 185],\n",
       "       [41, 'George H. W. Bush', 188],\n",
       "       [42, 'Bill Clinton', 188],\n",
       "       [43, 'George W. Bush', 182],\n",
       "       [44, 'Barack Obama', 185]], dtype=object)"
      ]
     },
     "execution_count": 23,
     "metadata": {},
     "output_type": "execute_result"
    }
   ],
   "source": [
    "pd.read_csv('presidents.csv').values"
   ]
  },
  {
   "cell_type": "markdown",
   "metadata": {},
   "source": [
    "### Resources"
   ]
  },
  {
   "cell_type": "code",
   "execution_count": 15,
   "metadata": {},
   "outputs": [],
   "source": [
    "box_score = 'http://www.espn.com/nba/boxscore?gameId=401070872'\n",
    "\n",
    "list_of_msas = 'https://en.wikipedia.org/wiki/List_of_metropolitan_statistical_areas'"
   ]
  },
  {
   "cell_type": "markdown",
   "metadata": {},
   "source": [
    "* presidential heights"
   ]
  }
 ],
 "metadata": {
  "kernelspec": {
   "display_name": "Python 3",
   "language": "python",
   "name": "python3"
  },
  "language_info": {
   "codemirror_mode": {
    "name": "ipython",
    "version": 3
   },
   "file_extension": ".py",
   "mimetype": "text/x-python",
   "name": "python",
   "nbconvert_exporter": "python",
   "pygments_lexer": "ipython3",
   "version": "3.7.0"
  }
 },
 "nbformat": 4,
 "nbformat_minor": 2
}
